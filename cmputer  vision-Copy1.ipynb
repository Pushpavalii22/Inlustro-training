{
 "cells": [
  {
   "cell_type": "code",
   "execution_count": 2,
   "id": "0859b8b2",
   "metadata": {},
   "outputs": [
    {
     "name": "stdout",
     "output_type": "stream",
     "text": [
      "Requirement already satisfied: opencv-python in c:\\programdata\\anaconda3\\lib\\site-packages (4.10.0.84)\n",
      "Requirement already satisfied: numpy>=1.17.3 in c:\\users\\administrator\\appdata\\roaming\\python\\python39\\site-packages (from opencv-python) (1.26.4)\n",
      "Note: you may need to restart the kernel to use updated packages.\n"
     ]
    }
   ],
   "source": [
    "pip install opencv-python"
   ]
  },
  {
   "cell_type": "code",
   "execution_count": null,
   "id": "c80e9bf9",
   "metadata": {},
   "outputs": [],
   "source": [
    "import cv2\n",
    "image =  cv2.imread('Pomeranian')\n",
    "cv2.imshow('Original Image',image)\n",
    "gray_image=cv2.cvtColor(image,cv2.COLOUR_BGR2GRAY)\n",
    "cv2.imshow('Grayscale Image',gray_image)\n",
    "cv.imwrite('gray_image.jpg',gray_image)\n",
    "cv2.waitkey(0)\n",
    "cv2.destroyAllwindows()\n"
   ]
  },
  {
   "cell_type": "code",
   "execution_count": null,
   "id": "f6078ce6",
   "metadata": {},
   "outputs": [],
   "source": []
  }
 ],
 "metadata": {
  "kernelspec": {
   "display_name": "Python 3 (ipykernel)",
   "language": "python",
   "name": "python3"
  },
  "language_info": {
   "codemirror_mode": {
    "name": "ipython",
    "version": 3
   },
   "file_extension": ".py",
   "mimetype": "text/x-python",
   "name": "python",
   "nbconvert_exporter": "python",
   "pygments_lexer": "ipython3",
   "version": "3.9.7"
  }
 },
 "nbformat": 4,
 "nbformat_minor": 5
}
